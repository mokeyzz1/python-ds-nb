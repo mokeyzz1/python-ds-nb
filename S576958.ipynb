{
 "cells": [
  {
   "cell_type": "markdown",
   "id": "7b1b7e84",
   "metadata": {},
   "source": [
    "Moses Koroma"
   ]
  },
  {
   "cell_type": "markdown",
   "id": "faa5b7ec",
   "metadata": {},
   "source": [
    "10. Create a new Jupyter Notebook (the name of the notebook should be your S number). Add a Markdown cell that contains your name. Add a Code cell and write Python that uses loops to draw the following pattern:\n",
    "\n",
    "```\n",
    "*      *\n",
    "**    **\n",
    "***  ***\n",
    "********\n",
    "```\n",
    "Make sure to add and submit both the new notebook and the changes to this notebook for this assignment."
   ]
  },
  {
   "cell_type": "code",
   "execution_count": 1,
   "id": "a3556a89",
   "metadata": {},
   "outputs": [
    {
     "name": "stdout",
     "output_type": "stream",
     "text": [
      "*      *\n",
      "**    **\n",
      "***  ***\n",
      "********\n"
     ]
    }
   ],
   "source": [
    "# Question 10 - Star Pattern\n",
    "\n",
    "rows = 4\n",
    "for i in range(1, rows + 1):\n",
    "    left_stars = \"*\" * i\n",
    "    spaces = \" \" * (2 * (rows - i))\n",
    "    right_stars = \"*\" * i\n",
    "    print(left_stars + spaces + right_stars)\n"
   ]
  }
 ],
 "metadata": {
  "kernelspec": {
   "display_name": "Python 3",
   "language": "python",
   "name": "python3"
  },
  "language_info": {
   "codemirror_mode": {
    "name": "ipython",
    "version": 3
   },
   "file_extension": ".py",
   "mimetype": "text/x-python",
   "name": "python",
   "nbconvert_exporter": "python",
   "pygments_lexer": "ipython3",
   "version": "3.11.13"
  }
 },
 "nbformat": 4,
 "nbformat_minor": 5
}
